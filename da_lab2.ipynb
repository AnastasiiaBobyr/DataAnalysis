{
 "cells": [
  {
   "cell_type": "markdown",
   "metadata": {},
   "source": [
    "# Однофакторний дисперсійний аналіз"
   ]
  },
  {
   "cell_type": "code",
   "execution_count": 12,
   "metadata": {},
   "outputs": [],
   "source": [
    "import numpy as np\n",
    "import scipy.stats as sts"
   ]
  },
  {
   "cell_type": "code",
   "execution_count": 13,
   "metadata": {},
   "outputs": [],
   "source": [
    "#довірча ймовірність\n",
    "a = 0.95\n",
    "N = 3\n",
    "n = 1000\n",
    "k = 5\n",
    "si_2 = []"
   ]
  },
  {
   "cell_type": "code",
   "execution_count": 14,
   "metadata": {},
   "outputs": [],
   "source": [
    "A1 = N + np.random.uniform(0,1,n)\n",
    "A2 = 0.5 * N + np.random.uniform(0,1,n)\n",
    "A3 = 0.8 * N + np.random.uniform(0,1,n)\n",
    "A4 = 1.4 * N + np.random.uniform(0,1,n)\n",
    "A5 = 2 * N + np.random.uniform(0,1,n)\n",
    "x = np.array([A1, A2, A3, A4, A5])"
   ]
  },
  {
   "cell_type": "code",
   "execution_count": 15,
   "metadata": {},
   "outputs": [],
   "source": [
    "for i in range(0, k):\n",
    "    sumj = 0\n",
    "    for j in range(1, n):\n",
    "        sumj += (x[i][j] - x[i].mean()) ** 2\n",
    "    si = (1 / (n - 1)) * sumj\n",
    "    si_2 = np.append(si_2, si)"
   ]
  },
  {
   "cell_type": "code",
   "execution_count": 16,
   "metadata": {},
   "outputs": [
    {
     "name": "stdout",
     "output_type": "stream",
     "text": [
      "Гіпотеза не відхиляється\n"
     ]
    },
    {
     "data": {
      "text/plain": [
       "0.20727504353581166"
      ]
     },
     "execution_count": 16,
     "metadata": {},
     "output_type": "execute_result"
    }
   ],
   "source": [
    "g0 = 0.335\n",
    "g = max(si_2) / sum(si_2)\n",
    "if g < g0:\n",
    "    print(\"Гіпотеза не відхиляється\")\n",
    "g"
   ]
  },
  {
   "cell_type": "code",
   "execution_count": 17,
   "metadata": {},
   "outputs": [],
   "source": [
    "sum_gen = 0\n",
    "for i in range(0, k):\n",
    "    sumij = 0\n",
    "    for i in range(0, k):\n",
    "        sumj = 0\n",
    "        for j in range(1, n):\n",
    "            sumj += (x[i][j] - x[i].mean()) ** 2\n",
    "        sumij += sumj\n",
    "    sum_gen += si_2[i] * sumij / (k * (n - 1))\n",
    "s0_2 = sum_gen / k    "
   ]
  },
  {
   "cell_type": "code",
   "execution_count": 18,
   "metadata": {},
   "outputs": [
    {
     "data": {
      "text/plain": [
       "0.0070738415889156775"
      ]
     },
     "execution_count": 18,
     "metadata": {},
     "output_type": "execute_result"
    }
   ],
   "source": [
    "#оцінкa дисперсії, що характеризує розсіювання поза впливом фактора\n",
    "s0_2"
   ]
  },
  {
   "cell_type": "code",
   "execution_count": 19,
   "metadata": {},
   "outputs": [
    {
     "data": {
      "text/plain": [
       "2.5346363964623215"
      ]
     },
     "execution_count": 19,
     "metadata": {},
     "output_type": "execute_result"
    }
   ],
   "source": [
    "#вибіркова дисперсія всіх спостережень\n",
    "s2 = 0\n",
    "\n",
    "first_sumij = 0\n",
    "for i in range(0, k):\n",
    "    sumj = 0\n",
    "    for j in range(1, n):\n",
    "        sumj += (x[i][j]) ** 2\n",
    "    first_sumij += sumj\n",
    "first = first_sumij\n",
    "\n",
    "second_sumij = 0\n",
    "for i in range(0, k):\n",
    "    sumj = 0\n",
    "    for j in range(1, n):\n",
    "        sumj += x[i][j]\n",
    "    second_sumij += sumj\n",
    "second = (second_sumij ** 2) / (k * n)\n",
    "\n",
    "s2 = (first - second) / (k * n - 1)\n",
    "s2"
   ]
  },
  {
   "cell_type": "code",
   "execution_count": 20,
   "metadata": {},
   "outputs": [
    {
     "data": {
      "text/plain": [
       "0.09937653935890568"
      ]
     },
     "execution_count": 20,
     "metadata": {},
     "output_type": "execute_result"
    }
   ],
   "source": [
    "#оцінкa дисперсії, що характеризує зміни параметра, пов'язані з фактором\n",
    "\n",
    "xi_mean = []\n",
    "xi_mean_s = 0\n",
    "for j in range(0,n):\n",
    "    xi_mean_s += x[i][j] / n\n",
    "    xi_mean = np.append(xi_mean, xi_mean_s)\n",
    "\n",
    "x_mean = 0\n",
    "for i in range(0,k):\n",
    "    x_mean += xi_mean[i] / k\n",
    "\n",
    "sA_2 = 0\n",
    "for i in range(0,k):\n",
    "    sA_2 += (xi_mean[i] - x_mean) ** 2\n",
    "sA_2 = sA_2 * n / (k - 1)\n",
    "\n",
    "sA_2"
   ]
  },
  {
   "cell_type": "code",
   "execution_count": 21,
   "metadata": {},
   "outputs": [
    {
     "data": {
      "text/plain": [
       "True"
      ]
     },
     "execution_count": 21,
     "metadata": {},
     "output_type": "execute_result"
    }
   ],
   "source": [
    "F = 2.93\n",
    "sA_2 / s0_2 > F"
   ]
  },
  {
   "cell_type": "code",
   "execution_count": 22,
   "metadata": {},
   "outputs": [
    {
     "data": {
      "text/plain": [
       "14.048454168753691"
      ]
     },
     "execution_count": 22,
     "metadata": {},
     "output_type": "execute_result"
    }
   ],
   "source": [
    "sA_2 / s0_2"
   ]
  },
  {
   "cell_type": "markdown",
   "metadata": {},
   "source": [
    "# Двофакторний дисперсійний аналіз"
   ]
  },
  {
   "cell_type": "code",
   "execution_count": 23,
   "metadata": {},
   "outputs": [],
   "source": [
    "#довірча ймовірність\n",
    "a = 0.95\n",
    "N = 3\n",
    "n = 100\n",
    "k = 5\n",
    "m = 4\n",
    "si_2 = []"
   ]
  },
  {
   "cell_type": "code",
   "execution_count": 24,
   "metadata": {},
   "outputs": [],
   "source": [
    "A11 = N + np.random.uniform(0,1,n)\n",
    "A12 = 3.5 * N + np.random.uniform(0,1,n)\n",
    "A13 = 3.8 * N + np.random.uniform(0,1,n)\n",
    "A14 = 1.4 * N + np.random.uniform(0,1,n)\n",
    "A15 = 2 * N + np.random.uniform(0,1,n)\n",
    "\n",
    "A21 = N + np.random.uniform(0,1,n)\n",
    "A22 = 2.5 * N + np.random.uniform(0,1,n)\n",
    "A23 = 2.8 * N + np.random.uniform(0,1,n)\n",
    "A24 = 2.4 * N + np.random.uniform(0,1,n)\n",
    "A25 = 3 * N + np.random.uniform(0,1,n)\n",
    "\n",
    "A31 = N + np.random.uniform(0,1,n)\n",
    "A32 = 1.5 * N + np.random.uniform(0,1,n)\n",
    "A33 = 1.8 * N + np.random.uniform(0,1,n)\n",
    "A34 = 3.4 * N + np.random.uniform(0,1,n)\n",
    "A35 = 4 * N + np.random.uniform(0,1,n)\n",
    "\n",
    "A41 = N + np.random.uniform(0,1,n)\n",
    "A42 = 0.5 * N + np.random.uniform(0,1,n)\n",
    "A43 = 0.8 * N + np.random.uniform(0,1,n)\n",
    "A44 = 4.4 * N + np.random.uniform(0,1,n)\n",
    "A45 = 5 * N + np.random.uniform(0,1,n)"
   ]
  },
  {
   "cell_type": "markdown",
   "metadata": {},
   "source": [
    "А і В незалежні:"
   ]
  },
  {
   "cell_type": "code",
   "execution_count": 25,
   "metadata": {},
   "outputs": [],
   "source": [
    "a11 = A11.mean()\n",
    "a12 = A12.mean()\n",
    "a13 = A13.mean()\n",
    "a14 = A14.mean()\n",
    "a15 = A15.mean()\n",
    "\n",
    "a21 = A21.mean()\n",
    "a22 = A22.mean()\n",
    "a23 = A23.mean()\n",
    "a24 = A24.mean()\n",
    "a25 = A25.mean()\n",
    "\n",
    "a31 = A31.mean()\n",
    "a32 = A32.mean()\n",
    "a33 = A33.mean()\n",
    "a34 = A34.mean()\n",
    "a35 = A35.mean()\n",
    "\n",
    "a41 = A41.mean()\n",
    "a42 = A42.mean()\n",
    "a43 = A43.mean()\n",
    "a44 = A44.mean()\n",
    "a45 = A45.mean()"
   ]
  },
  {
   "cell_type": "code",
   "execution_count": 26,
   "metadata": {},
   "outputs": [],
   "source": [
    "x1 = np.array([a11, a12, a13, a14, a15])\n",
    "x2 = np.array([a21, a22, a23, a24, a25])\n",
    "x3 = np.array([a31, a32, a33, a34, a35])\n",
    "x4 = np.array([a41, a42, a43, a44, a45])\n",
    "\n",
    "x = np.array([x1,x2,x3,x4])"
   ]
  },
  {
   "cell_type": "code",
   "execution_count": 27,
   "metadata": {},
   "outputs": [
    {
     "data": {
      "text/plain": [
       "(4, 5)"
      ]
     },
     "execution_count": 27,
     "metadata": {},
     "output_type": "execute_result"
    }
   ],
   "source": [
    "x.shape"
   ]
  },
  {
   "cell_type": "code",
   "execution_count": 28,
   "metadata": {},
   "outputs": [],
   "source": [
    "#x[j][i] !!!\n",
    "#j - рядок\n",
    "#i - стовпчик"
   ]
  },
  {
   "cell_type": "code",
   "execution_count": 29,
   "metadata": {},
   "outputs": [
    {
     "data": {
      "text/plain": [
       "1439.573316632301"
      ]
     },
     "execution_count": 29,
     "metadata": {},
     "output_type": "execute_result"
    }
   ],
   "source": [
    "Q1 = 0\n",
    "for i in range(0,k):\n",
    "    for j in range(0,m):\n",
    "        Q1 += x[j][i] ** 2\n",
    "Q1"
   ]
  },
  {
   "cell_type": "code",
   "execution_count": 30,
   "metadata": {},
   "outputs": [],
   "source": [
    "Xi = []\n",
    "for i in range(0,k):\n",
    "    sum_col = 0\n",
    "    for j in range(0,m):\n",
    "        sum_col += x[j][i]\n",
    "    Xi = np.append(Xi, sum_col)     "
   ]
  },
  {
   "cell_type": "code",
   "execution_count": 31,
   "metadata": {},
   "outputs": [],
   "source": [
    "Xj_1 = []\n",
    "for j in range(0,m):\n",
    "    sum_row = 0\n",
    "    for i in range(0,k):\n",
    "        sum_row += x[j][i]\n",
    "    Xj_1 = np.append(Xj_1, sum_row)   "
   ]
  },
  {
   "cell_type": "code",
   "execution_count": 32,
   "metadata": {},
   "outputs": [
    {
     "data": {
      "text/plain": [
       "array([13.89642349, 25.98759073, 29.62456824, 36.83881869, 44.02895178])"
      ]
     },
     "execution_count": 32,
     "metadata": {},
     "output_type": "execute_result"
    }
   ],
   "source": [
    "Xi"
   ]
  },
  {
   "cell_type": "code",
   "execution_count": 33,
   "metadata": {},
   "outputs": [
    {
     "data": {
      "text/plain": [
       "array([37.62133284, 37.54075107, 37.55788058, 37.65638844])"
      ]
     },
     "execution_count": 33,
     "metadata": {},
     "output_type": "execute_result"
    }
   ],
   "source": [
    "Xj_1"
   ]
  },
  {
   "cell_type": "code",
   "execution_count": 34,
   "metadata": {},
   "outputs": [
    {
     "data": {
      "text/plain": [
       "1260.4319146045682"
      ]
     },
     "execution_count": 34,
     "metadata": {},
     "output_type": "execute_result"
    }
   ],
   "source": [
    "Q2 = 0\n",
    "for i in range(0,k):\n",
    "    Q2 += Xi[i] ** 2 / m\n",
    "Q2"
   ]
  },
  {
   "cell_type": "code",
   "execution_count": 35,
   "metadata": {},
   "outputs": [
    {
     "data": {
      "text/plain": [
       "1130.6541318655618"
      ]
     },
     "execution_count": 35,
     "metadata": {},
     "output_type": "execute_result"
    }
   ],
   "source": [
    "Q3 = 0\n",
    "for j in range(0,m):\n",
    "    Q3 += Xj_1[j] ** 2 / k\n",
    "Q3"
   ]
  },
  {
   "cell_type": "code",
   "execution_count": 36,
   "metadata": {},
   "outputs": [
    {
     "name": "stdout",
     "output_type": "stream",
     "text": [
      "True\n"
     ]
    }
   ],
   "source": [
    "Q4_1 = 0\n",
    "Q4_2 = 0\n",
    "\n",
    "for i in range(0,k):\n",
    "    Q4_1 += Xi[i] \n",
    "Q4_1 = Q4_1 ** 2 / (m * k)\n",
    "    \n",
    "for j in range(0,m):\n",
    "    Q4_2 += Xj_1[j] \n",
    "Q4_2 = Q4_2 ** 2 / (m * k)\n",
    "\n",
    "print(round(Q4_1, 4) == round(Q4_2, 4))\n",
    "Q4 = Q4_1"
   ]
  },
  {
   "cell_type": "code",
   "execution_count": 37,
   "metadata": {},
   "outputs": [
    {
     "data": {
      "text/plain": [
       "14.928303845132783"
      ]
     },
     "execution_count": 37,
     "metadata": {},
     "output_type": "execute_result"
    }
   ],
   "source": [
    "s0_2 = (Q1 + Q4 - Q2 - Q3) / ((k - 1) * (m - 1))\n",
    "s0_2"
   ]
  },
  {
   "cell_type": "code",
   "execution_count": 38,
   "metadata": {},
   "outputs": [
    {
     "data": {
      "text/plain": [
       "32.44488465628649"
      ]
     },
     "execution_count": 38,
     "metadata": {},
     "output_type": "execute_result"
    }
   ],
   "source": [
    "sA_2 = (Q2 - Q4) / (k - 1)\n",
    "sA_2"
   ]
  },
  {
   "cell_type": "code",
   "execution_count": 39,
   "metadata": {},
   "outputs": [
    {
     "data": {
      "text/plain": [
       "0.0005852953798542634"
      ]
     },
     "execution_count": 39,
     "metadata": {},
     "output_type": "execute_result"
    }
   ],
   "source": [
    "sB_2 = (Q3 - Q4) / (m - 1)\n",
    "sB_2"
   ]
  },
  {
   "cell_type": "code",
   "execution_count": 40,
   "metadata": {},
   "outputs": [
    {
     "data": {
      "text/plain": [
       "False"
      ]
     },
     "execution_count": 40,
     "metadata": {},
     "output_type": "execute_result"
    }
   ],
   "source": [
    "sA_2 / s0_2 > 2.87"
   ]
  },
  {
   "cell_type": "code",
   "execution_count": 41,
   "metadata": {},
   "outputs": [
    {
     "data": {
      "text/plain": [
       "False"
      ]
     },
     "execution_count": 41,
     "metadata": {},
     "output_type": "execute_result"
    }
   ],
   "source": [
    "sB_2 / s0_2 > 3.10"
   ]
  },
  {
   "cell_type": "markdown",
   "metadata": {},
   "source": [
    "А і В залежні"
   ]
  },
  {
   "cell_type": "code",
   "execution_count": 42,
   "metadata": {},
   "outputs": [],
   "source": [
    "y1 = np.array([A11, A12, A13, A14, A15])\n",
    "y2 = np.array([A21, A22, A23, A24, A25])\n",
    "y3 = np.array([A31, A32, A33, A34, A35])\n",
    "y4 = np.array([A41, A42, A43, A44, A45])\n",
    "\n",
    "y = np.array([y1,y2,y3,y4])"
   ]
  },
  {
   "cell_type": "code",
   "execution_count": 43,
   "metadata": {},
   "outputs": [
    {
     "data": {
      "text/plain": [
       "144115.9478030189"
      ]
     },
     "execution_count": 43,
     "metadata": {},
     "output_type": "execute_result"
    }
   ],
   "source": [
    "Q5 = 0\n",
    "for i in range(0,k):\n",
    "    for j in range(0,m):\n",
    "        for v in range(0,n):\n",
    "            Q5 += y[j][i][v] ** 2\n",
    "Q5"
   ]
  },
  {
   "cell_type": "code",
   "execution_count": 44,
   "metadata": {},
   "outputs": [],
   "source": [
    "sAB_2 = (Q5 - n * Q1) / (m * k * (n - 1))"
   ]
  },
  {
   "cell_type": "code",
   "execution_count": 45,
   "metadata": {},
   "outputs": [
    {
     "data": {
      "text/plain": [
       "True"
      ]
     },
     "execution_count": 45,
     "metadata": {},
     "output_type": "execute_result"
    }
   ],
   "source": [
    "N * s0_2 / sAB_2 > 2.35"
   ]
  },
  {
   "cell_type": "code",
   "execution_count": null,
   "metadata": {},
   "outputs": [],
   "source": []
  }
 ],
 "metadata": {
  "kernelspec": {
   "display_name": "Python 3",
   "language": "python",
   "name": "python3"
  },
  "language_info": {
   "codemirror_mode": {
    "name": "ipython",
    "version": 3
   },
   "file_extension": ".py",
   "mimetype": "text/x-python",
   "name": "python",
   "nbconvert_exporter": "python",
   "pygments_lexer": "ipython3",
   "version": "3.6.4"
  }
 },
 "nbformat": 4,
 "nbformat_minor": 2
}
